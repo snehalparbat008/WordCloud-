{
 "metadata": {
  "kernelspec": {
   "display_name": "Python 3",
   "language": "python",
   "name": "python3"
  },
  "language_info": {
   "codemirror_mode": {
    "name": "ipython",
    "version": 3
   },
   "file_extension": ".py",
   "mimetype": "text/x-python",
   "name": "python",
   "nbconvert_exporter": "python",
   "pygments_lexer": "ipython3",
   "version": "3.7.6"
  },
  "name": ""
 },
 "nbformat": 3,
 "nbformat_minor": 0,
 "worksheets": [
  {
   "cells": [
    {
     "cell_type": "markdown",
     "metadata": {},
     "source": [
      "Breast Cancer Classification\n"
     ]
    },
    {
     "cell_type": "code",
     "collapsed": false,
     "input": [
      "import warnings\n",
      "warnings.filterwarnings(\"ignore\")\n",
      "\n",
      "import numpy as np\n",
      "import pandas as pd\n",
      "from sklearn.model_selection import train_test_split\n",
      "from sklearn.datasets import load_breast_cancer\n",
      "from sklearn import preprocessing"
     ],
     "language": "python",
     "metadata": {},
     "outputs": [],
     "prompt_number": 8
    },
    {
     "cell_type": "heading",
     "level": 3,
     "metadata": {},
     "source": [
      "a) Prepare the data"
     ]
    },
    {
     "cell_type": "code",
     "collapsed": false,
     "input": [
      "# Using the data from Kaggle\n",
      "df = pd.read_csv(\"F://breast-cancer.csv\") # There is some unanamed column at the end, to drop it we are metioning that as index column\n",
      "print(df.columns)\n",
      "print(df.shape)"
     ],
     "language": "python",
     "metadata": {},
     "outputs": [
      {
       "output_type": "stream",
       "stream": "stdout",
       "text": [
        "Index(['id', 'diagnosis', 'radius_mean', 'texture_mean', 'perimeter_mean',\n",
        "       'area_mean', 'smoothness_mean', 'compactness_mean', 'concavity_mean',\n",
        "       'concave points_mean', 'symmetry_mean', 'fractal_dimension_mean',\n",
        "       'radius_se', 'texture_se', 'perimeter_se', 'area_se', 'smoothness_se',\n",
        "       'compactness_se', 'concavity_se', 'concave points_se', 'symmetry_se',\n",
        "       'fractal_dimension_se', 'radius_worst', 'texture_worst',\n",
        "       'perimeter_worst', 'area_worst', 'smoothness_worst',\n",
        "       'compactness_worst', 'concavity_worst', 'concave points_worst',\n",
        "       'symmetry_worst', 'fractal_dimension_worst', 'Unnamed: 32'],\n",
        "      dtype='object')\n",
        "(569, 33)\n"
       ]
      }
     ],
     "prompt_number": 23
    },
    {
     "cell_type": "code",
     "collapsed": false,
     "input": [
      "# Remove unnamed column\n",
      "df = df.loc[:, ~df.columns.str.contains('^Unnamed')]"
     ],
     "language": "python",
     "metadata": {},
     "outputs": [],
     "prompt_number": 27
    },
    {
     "cell_type": "code",
     "collapsed": false,
     "input": [
      "Data, target = df.iloc[:,2:], df.iloc[:,1]\n",
      "Data.shape, target.shape"
     ],
     "language": "python",
     "metadata": {},
     "outputs": [
      {
       "metadata": {},
       "output_type": "pyout",
       "prompt_number": 28,
       "text": [
        "((569, 30), (569,))"
       ]
      }
     ],
     "prompt_number": 28
    },
    {
     "cell_type": "code",
     "collapsed": false,
     "input": [
      "Data.columns, Data.shape"
     ],
     "language": "python",
     "metadata": {},
     "outputs": [
      {
       "metadata": {},
       "output_type": "pyout",
       "prompt_number": 31,
       "text": [
        "(Index(['radius_mean', 'texture_mean', 'perimeter_mean', 'area_mean',\n",
        "        'smoothness_mean', 'compactness_mean', 'concavity_mean',\n",
        "        'concave points_mean', 'symmetry_mean', 'fractal_dimension_mean',\n",
        "        'radius_se', 'texture_se', 'perimeter_se', 'area_se', 'smoothness_se',\n",
        "        'compactness_se', 'concavity_se', 'concave points_se', 'symmetry_se',\n",
        "        'fractal_dimension_se', 'radius_worst', 'texture_worst',\n",
        "        'perimeter_worst', 'area_worst', 'smoothness_worst',\n",
        "        'compactness_worst', 'concavity_worst', 'concave points_worst',\n",
        "        'symmetry_worst', 'fractal_dimension_worst'],\n",
        "       dtype='object'),\n",
        " (569, 30))"
       ]
      }
     ],
     "prompt_number": 31
    },
    {
     "cell_type": "code",
     "collapsed": false,
     "input": [
      "target"
     ],
     "language": "python",
     "metadata": {},
     "outputs": [
      {
       "metadata": {},
       "output_type": "pyout",
       "prompt_number": 30,
       "text": [
        "0      M\n",
        "1      M\n",
        "2      M\n",
        "3      M\n",
        "4      M\n",
        "      ..\n",
        "564    M\n",
        "565    M\n",
        "566    M\n",
        "567    M\n",
        "568    B\n",
        "Name: diagnosis, Length: 569, dtype: object"
       ]
      }
     ],
     "prompt_number": 30
    },
    {
     "cell_type": "code",
     "collapsed": false,
     "input": [
      "Data.iloc[1:5,]"
     ],
     "language": "python",
     "metadata": {},
     "outputs": [
      {
       "html": [
        "<div>\n",
        "<style scoped>\n",
        "    .dataframe tbody tr th:only-of-type {\n",
        "        vertical-align: middle;\n",
        "    }\n",
        "\n",
        "    .dataframe tbody tr th {\n",
        "        vertical-align: top;\n",
        "    }\n",
        "\n",
        "    .dataframe thead th {\n",
        "        text-align: right;\n",
        "    }\n",
        "</style>\n",
        "<table border=\"1\" class=\"dataframe\">\n",
        "  <thead>\n",
        "    <tr style=\"text-align: right;\">\n",
        "      <th></th>\n",
        "      <th>radius_mean</th>\n",
        "      <th>texture_mean</th>\n",
        "      <th>perimeter_mean</th>\n",
        "      <th>area_mean</th>\n",
        "      <th>smoothness_mean</th>\n",
        "      <th>compactness_mean</th>\n",
        "      <th>concavity_mean</th>\n",
        "      <th>concave points_mean</th>\n",
        "      <th>symmetry_mean</th>\n",
        "      <th>fractal_dimension_mean</th>\n",
        "      <th>...</th>\n",
        "      <th>radius_worst</th>\n",
        "      <th>texture_worst</th>\n",
        "      <th>perimeter_worst</th>\n",
        "      <th>area_worst</th>\n",
        "      <th>smoothness_worst</th>\n",
        "      <th>compactness_worst</th>\n",
        "      <th>concavity_worst</th>\n",
        "      <th>concave points_worst</th>\n",
        "      <th>symmetry_worst</th>\n",
        "      <th>fractal_dimension_worst</th>\n",
        "    </tr>\n",
        "  </thead>\n",
        "  <tbody>\n",
        "    <tr>\n",
        "      <th>1</th>\n",
        "      <td>20.57</td>\n",
        "      <td>17.77</td>\n",
        "      <td>132.90</td>\n",
        "      <td>1326.0</td>\n",
        "      <td>0.08474</td>\n",
        "      <td>0.07864</td>\n",
        "      <td>0.0869</td>\n",
        "      <td>0.07017</td>\n",
        "      <td>0.1812</td>\n",
        "      <td>0.05667</td>\n",
        "      <td>...</td>\n",
        "      <td>24.99</td>\n",
        "      <td>23.41</td>\n",
        "      <td>158.80</td>\n",
        "      <td>1956.0</td>\n",
        "      <td>0.1238</td>\n",
        "      <td>0.1866</td>\n",
        "      <td>0.2416</td>\n",
        "      <td>0.1860</td>\n",
        "      <td>0.2750</td>\n",
        "      <td>0.08902</td>\n",
        "    </tr>\n",
        "    <tr>\n",
        "      <th>2</th>\n",
        "      <td>19.69</td>\n",
        "      <td>21.25</td>\n",
        "      <td>130.00</td>\n",
        "      <td>1203.0</td>\n",
        "      <td>0.10960</td>\n",
        "      <td>0.15990</td>\n",
        "      <td>0.1974</td>\n",
        "      <td>0.12790</td>\n",
        "      <td>0.2069</td>\n",
        "      <td>0.05999</td>\n",
        "      <td>...</td>\n",
        "      <td>23.57</td>\n",
        "      <td>25.53</td>\n",
        "      <td>152.50</td>\n",
        "      <td>1709.0</td>\n",
        "      <td>0.1444</td>\n",
        "      <td>0.4245</td>\n",
        "      <td>0.4504</td>\n",
        "      <td>0.2430</td>\n",
        "      <td>0.3613</td>\n",
        "      <td>0.08758</td>\n",
        "    </tr>\n",
        "    <tr>\n",
        "      <th>3</th>\n",
        "      <td>11.42</td>\n",
        "      <td>20.38</td>\n",
        "      <td>77.58</td>\n",
        "      <td>386.1</td>\n",
        "      <td>0.14250</td>\n",
        "      <td>0.28390</td>\n",
        "      <td>0.2414</td>\n",
        "      <td>0.10520</td>\n",
        "      <td>0.2597</td>\n",
        "      <td>0.09744</td>\n",
        "      <td>...</td>\n",
        "      <td>14.91</td>\n",
        "      <td>26.50</td>\n",
        "      <td>98.87</td>\n",
        "      <td>567.7</td>\n",
        "      <td>0.2098</td>\n",
        "      <td>0.8663</td>\n",
        "      <td>0.6869</td>\n",
        "      <td>0.2575</td>\n",
        "      <td>0.6638</td>\n",
        "      <td>0.17300</td>\n",
        "    </tr>\n",
        "    <tr>\n",
        "      <th>4</th>\n",
        "      <td>20.29</td>\n",
        "      <td>14.34</td>\n",
        "      <td>135.10</td>\n",
        "      <td>1297.0</td>\n",
        "      <td>0.10030</td>\n",
        "      <td>0.13280</td>\n",
        "      <td>0.1980</td>\n",
        "      <td>0.10430</td>\n",
        "      <td>0.1809</td>\n",
        "      <td>0.05883</td>\n",
        "      <td>...</td>\n",
        "      <td>22.54</td>\n",
        "      <td>16.67</td>\n",
        "      <td>152.20</td>\n",
        "      <td>1575.0</td>\n",
        "      <td>0.1374</td>\n",
        "      <td>0.2050</td>\n",
        "      <td>0.4000</td>\n",
        "      <td>0.1625</td>\n",
        "      <td>0.2364</td>\n",
        "      <td>0.07678</td>\n",
        "    </tr>\n",
        "  </tbody>\n",
        "</table>\n",
        "<p>4 rows \u00d7 30 columns</p>\n",
        "</div>"
       ],
       "metadata": {},
       "output_type": "pyout",
       "prompt_number": 33,
       "text": [
        "   radius_mean  texture_mean  perimeter_mean  area_mean  smoothness_mean  \\\n",
        "1        20.57         17.77          132.90     1326.0          0.08474   \n",
        "2        19.69         21.25          130.00     1203.0          0.10960   \n",
        "3        11.42         20.38           77.58      386.1          0.14250   \n",
        "4        20.29         14.34          135.10     1297.0          0.10030   \n",
        "\n",
        "   compactness_mean  concavity_mean  concave points_mean  symmetry_mean  \\\n",
        "1           0.07864          0.0869              0.07017         0.1812   \n",
        "2           0.15990          0.1974              0.12790         0.2069   \n",
        "3           0.28390          0.2414              0.10520         0.2597   \n",
        "4           0.13280          0.1980              0.10430         0.1809   \n",
        "\n",
        "   fractal_dimension_mean  ...  radius_worst  texture_worst  perimeter_worst  \\\n",
        "1                 0.05667  ...         24.99          23.41           158.80   \n",
        "2                 0.05999  ...         23.57          25.53           152.50   \n",
        "3                 0.09744  ...         14.91          26.50            98.87   \n",
        "4                 0.05883  ...         22.54          16.67           152.20   \n",
        "\n",
        "   area_worst  smoothness_worst  compactness_worst  concavity_worst  \\\n",
        "1      1956.0            0.1238             0.1866           0.2416   \n",
        "2      1709.0            0.1444             0.4245           0.4504   \n",
        "3       567.7            0.2098             0.8663           0.6869   \n",
        "4      1575.0            0.1374             0.2050           0.4000   \n",
        "\n",
        "   concave points_worst  symmetry_worst  fractal_dimension_worst  \n",
        "1                0.1860          0.2750                  0.08902  \n",
        "2                0.2430          0.3613                  0.08758  \n",
        "3                0.2575          0.6638                  0.17300  \n",
        "4                0.1625          0.2364                  0.07678  \n",
        "\n",
        "[4 rows x 30 columns]"
       ]
      }
     ],
     "prompt_number": 33
    },
    {
     "cell_type": "markdown",
     "metadata": {},
     "source": [
      "Observe that different attributes have different range of values. It is better to scale the attributes"
     ]
    },
    {
     "cell_type": "code",
     "collapsed": false,
     "input": [
      "Data = preprocessing.MinMaxScaler().fit_transform(Data) # All are in [0,1]\n",
      "Data"
     ],
     "language": "python",
     "metadata": {},
     "outputs": [
      {
       "metadata": {},
       "output_type": "pyout",
       "prompt_number": 35,
       "text": [
        "array([[0.52103744, 0.0226581 , 0.54598853, ..., 0.91202749, 0.59846245,\n",
        "        0.41886396],\n",
        "       [0.64314449, 0.27257355, 0.61578329, ..., 0.63917526, 0.23358959,\n",
        "        0.22287813],\n",
        "       [0.60149557, 0.3902604 , 0.59574321, ..., 0.83505155, 0.40370589,\n",
        "        0.21343303],\n",
        "       ...,\n",
        "       [0.45525108, 0.62123774, 0.44578813, ..., 0.48728522, 0.12872068,\n",
        "        0.1519087 ],\n",
        "       [0.64456434, 0.66351031, 0.66553797, ..., 0.91065292, 0.49714173,\n",
        "        0.45231536],\n",
        "       [0.03686876, 0.50152181, 0.02853984, ..., 0.        , 0.25744136,\n",
        "        0.10068215]])"
       ]
      }
     ],
     "prompt_number": 35
    },
    {
     "cell_type": "code",
     "collapsed": false,
     "input": [
      "# target is already encoded, but we need to reverse the labels\n",
      "# so that malignant is the positive class\n",
      "target = np.where(target==0, 1, 0)"
     ],
     "language": "python",
     "metadata": {},
     "outputs": [],
     "prompt_number": 36
    },
    {
     "cell_type": "code",
     "collapsed": false,
     "input": [
      "# Split the data and target into train, test - 70:30\n",
      "D_train, D_test, t_train, t_test = train_test_split(Data, target, test_size = 0.3, random_state=999)\n",
      "D_train.shape, D_test.shape, t_train.shape, t_test.shape"
     ],
     "language": "python",
     "metadata": {},
     "outputs": [
      {
       "metadata": {},
       "output_type": "pyout",
       "prompt_number": 39,
       "text": [
        "((398, 30), (171, 30), (398,), (171,))"
       ]
      }
     ],
     "prompt_number": 39
    },
    {
     "cell_type": "heading",
     "level": 3,
     "metadata": {},
     "source": [
      "b) Build the baseline model - untuned"
     ]
    },
    {
     "cell_type": "code",
     "collapsed": false,
     "input": [
      "from sklearn.naive_bayes import GaussianNB\n",
      "np.random.seed(999)\n",
      "nb_clf = GaussianNB()"
     ],
     "language": "python",
     "metadata": {},
     "outputs": [],
     "prompt_number": 42
    },
    {
     "cell_type": "code",
     "collapsed": false,
     "input": [
      "nb_clf.fit(D_train, t_train)\n",
      "preds = nb_clf.predict(D_test)"
     ],
     "language": "python",
     "metadata": {},
     "outputs": [],
     "prompt_number": 45
    },
    {
     "cell_type": "code",
     "collapsed": false,
     "input": [
      "from sklearn.metrics import accuracy_score\n",
      "accuracy_score(t_test, preds)"
     ],
     "language": "python",
     "metadata": {},
     "outputs": [
      {
       "metadata": {},
       "output_type": "pyout",
       "prompt_number": 46,
       "text": [
        "1.0"
       ]
      }
     ],
     "prompt_number": 46
    },
    {
     "cell_type": "markdown",
     "metadata": {},
     "source": [
      "### c) Tune the model and test\n",
      "#### Accuracy = 0, are we testing properly? Perform cross validation\n",
      "\n",
      "The available cross-validation techniques in sklearn are:\n",
      "- model_selection.KFold(): K-Fold cross-validator\n",
      "- model_selection.RepeatedKFold(): Repeated K-Fold cross-validator\n",
      "- model_selection.RepeatedStratifiedKFold(): Repeated Stratified K-Fold cross-validator\n",
      "- model_selection.StratifiedKFold(): Stratified K-Fold cross-validator\n",
      "- model_selection.LeaveOneOut(): Leave One Out cross-validator\n",
      "\n",
      "conduct a stratified 5-fold (n_splits = 5) cross-validation with 3 repetitions (n_repeats = 3) using the RepeatedStratifiedKFold function. Since the target labels have fewer malignant labels than benign, stratification ensures that the proportion of the two labels in both train and test sets are the same as the proportion in the full dataset in each cross-validation repetition."
     ]
    },
    {
     "cell_type": "code",
     "collapsed": false,
     "input": [
      "from sklearn.model_selection import RepeatedStratifiedKFold\n",
      "\n",
      "cv_method = RepeatedStratifiedKFold(n_splits=5, \n",
      "                                    n_repeats=3, \n",
      "                                    random_state=999)"
     ],
     "language": "python",
     "metadata": {},
     "outputs": [],
     "prompt_number": 48
    },
    {
     "cell_type": "code",
     "collapsed": false,
     "input": [
      "# Transofrm the data \n",
      "from sklearn.preprocessing import PowerTransformer\n",
      "Data_transformed = PowerTransformer().fit_transform(Data)\n"
     ],
     "language": "python",
     "metadata": {},
     "outputs": [],
     "prompt_number": 51
    },
    {
     "cell_type": "code",
     "collapsed": false,
     "input": [
      "from sklearn.naive_bayes import GaussianNB\n",
      "np.random.seed(999)\n",
      "\n",
      "# Instantiate GaissianNB\n",
      "nb_classifier = GaussianNB()\n",
      "\n",
      "# Hyper-paramter space for NB\n",
      "params_NB = {'var_smoothing': np.logspace(0,-9, num=100)}"
     ],
     "language": "python",
     "metadata": {},
     "outputs": [],
     "prompt_number": 49
    },
    {
     "cell_type": "code",
     "collapsed": false,
     "input": [
      "# Instantiate gridsearchcv object\n",
      "from sklearn.model_selection import GridSearchCV\n",
      "gs_NB = GridSearchCV(estimator=nb_classifier, \n",
      "                     param_grid=params_NB, \n",
      "                     cv=cv_method,\n",
      "                     verbose=1, \n",
      "                     scoring='accuracy')"
     ],
     "language": "python",
     "metadata": {},
     "outputs": [],
     "prompt_number": 53
    },
    {
     "cell_type": "code",
     "collapsed": false,
     "input": [
      "# Train the model\n",
      "gs_NB.fit(Data_transformed, target)"
     ],
     "language": "python",
     "metadata": {},
     "outputs": [
      {
       "output_type": "stream",
       "stream": "stdout",
       "text": [
        "Fitting 15 folds for each of 100 candidates, totalling 1500 fits\n"
       ]
      },
      {
       "output_type": "stream",
       "stream": "stderr",
       "text": [
        "[Parallel(n_jobs=1)]: Using backend SequentialBackend with 1 concurrent workers.\n",
        "[Parallel(n_jobs=1)]: Done 1500 out of 1500 | elapsed:    1.2s finished\n"
       ]
      },
      {
       "metadata": {},
       "output_type": "pyout",
       "prompt_number": 54,
       "text": [
        "GridSearchCV(cv=RepeatedStratifiedKFold(n_repeats=3, n_splits=5, random_state=999),\n",
        "             error_score=nan,\n",
        "             estimator=GaussianNB(priors=None, var_smoothing=1e-09),\n",
        "             iid='deprecated', n_jobs=None,\n",
        "             param_grid={'var_smoothing': array([1.00000000e+00, 8.11130831e-01, 6.57933225e-01, 5.33669923e-01,\n",
        "       4.32876128e-01, 3.51119173e-01, 2.84803587e-01, 2.31012970e-01,\n",
        "       1.87381742e-01,...\n",
        "       5.33669923e-08, 4.32876128e-08, 3.51119173e-08, 2.84803587e-08,\n",
        "       2.31012970e-08, 1.87381742e-08, 1.51991108e-08, 1.23284674e-08,\n",
        "       1.00000000e-08, 8.11130831e-09, 6.57933225e-09, 5.33669923e-09,\n",
        "       4.32876128e-09, 3.51119173e-09, 2.84803587e-09, 2.31012970e-09,\n",
        "       1.87381742e-09, 1.51991108e-09, 1.23284674e-09, 1.00000000e-09])},\n",
        "             pre_dispatch='2*n_jobs', refit=True, return_train_score=False,\n",
        "             scoring='accuracy', verbose=1)"
       ]
      }
     ],
     "prompt_number": 54
    },
    {
     "cell_type": "markdown",
     "metadata": {},
     "source": [
      "After 3 repeated 5-fold cross-validation, we observe that the best parameters and best score are as follows."
     ]
    },
    {
     "cell_type": "code",
     "collapsed": false,
     "input": [
      "gs_NB.best_params_"
     ],
     "language": "python",
     "metadata": {},
     "outputs": [
      {
       "metadata": {},
       "output_type": "pyout",
       "prompt_number": 55,
       "text": [
        "{'var_smoothing': 1.0}"
       ]
      }
     ],
     "prompt_number": 55
    },
    {
     "cell_type": "code",
     "collapsed": false,
     "input": [
      "gs_NB.best_score_"
     ],
     "language": "python",
     "metadata": {},
     "outputs": [
      {
       "metadata": {},
       "output_type": "pyout",
       "prompt_number": 56,
       "text": [
        "1.0"
       ]
      }
     ],
     "prompt_number": 56
    }
   ],
   "metadata": {}
  }
 ]
}